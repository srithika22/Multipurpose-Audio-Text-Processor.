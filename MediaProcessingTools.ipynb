{
  "nbformat": 4,
  "nbformat_minor": 0,
  "metadata": {
    "colab": {
      "provenance": [],
      "authorship_tag": "ABX9TyNYokOvWLFfaDeqgTqOuuTf",
      "include_colab_link": true
    },
    "kernelspec": {
      "name": "python3",
      "display_name": "Python 3"
    },
    "language_info": {
      "name": "python"
    }
  },
  "cells": [
    {
      "cell_type": "markdown",
      "metadata": {
        "id": "view-in-github",
        "colab_type": "text"
      },
      "source": [
        "<a href=\"https://colab.research.google.com/github/srithika22/Multipurpose-Audio-Text-Processor./blob/main/MediaProcessingTools.ipynb\" target=\"_parent\"><img src=\"https://colab.research.google.com/assets/colab-badge.svg\" alt=\"Open In Colab\"/></a>"
      ]
    },
    {
      "cell_type": "code",
      "execution_count": 1,
      "metadata": {
        "colab": {
          "base_uri": "https://localhost:8080/"
        },
        "id": "3QC0N5OFCF87",
        "outputId": "6ab8f79f-65fb-4af1-e710-e86575c48a6b"
      },
      "outputs": [
        {
          "output_type": "stream",
          "name": "stdout",
          "text": [
            "Collecting gtts\n",
            "  Downloading gTTS-2.5.4-py3-none-any.whl.metadata (4.1 kB)\n",
            "Requirement already satisfied: requests<3,>=2.27 in /usr/local/lib/python3.11/dist-packages (from gtts) (2.32.3)\n",
            "Collecting click<8.2,>=7.1 (from gtts)\n",
            "  Downloading click-8.1.8-py3-none-any.whl.metadata (2.3 kB)\n",
            "Requirement already satisfied: charset-normalizer<4,>=2 in /usr/local/lib/python3.11/dist-packages (from requests<3,>=2.27->gtts) (3.4.2)\n",
            "Requirement already satisfied: idna<4,>=2.5 in /usr/local/lib/python3.11/dist-packages (from requests<3,>=2.27->gtts) (3.10)\n",
            "Requirement already satisfied: urllib3<3,>=1.21.1 in /usr/local/lib/python3.11/dist-packages (from requests<3,>=2.27->gtts) (2.4.0)\n",
            "Requirement already satisfied: certifi>=2017.4.17 in /usr/local/lib/python3.11/dist-packages (from requests<3,>=2.27->gtts) (2025.4.26)\n",
            "Downloading gTTS-2.5.4-py3-none-any.whl (29 kB)\n",
            "Downloading click-8.1.8-py3-none-any.whl (98 kB)\n",
            "\u001b[2K   \u001b[90m━━━━━━━━━━━━━━━━━━━━━━━━━━━━━━━━━━━━━━━━\u001b[0m \u001b[32m98.2/98.2 kB\u001b[0m \u001b[31m3.5 MB/s\u001b[0m eta \u001b[36m0:00:00\u001b[0m\n",
            "\u001b[?25hInstalling collected packages: click, gtts\n",
            "  Attempting uninstall: click\n",
            "    Found existing installation: click 8.2.0\n",
            "    Uninstalling click-8.2.0:\n",
            "      Successfully uninstalled click-8.2.0\n",
            "Successfully installed click-8.1.8 gtts-2.5.4\n"
          ]
        }
      ],
      "source": [
        "!pip install gtts\n"
      ]
    },
    {
      "cell_type": "code",
      "source": [
        "from gtts import gTTS"
      ],
      "metadata": {
        "id": "dbp87O8GCJvQ"
      },
      "execution_count": 4,
      "outputs": []
    },
    {
      "cell_type": "code",
      "source": [
        "text = 'Hello Buddy'"
      ],
      "metadata": {
        "id": "c_Ne-PhtCPSY"
      },
      "execution_count": 5,
      "outputs": []
    },
    {
      "cell_type": "code",
      "source": [
        "lang = 'en'"
      ],
      "metadata": {
        "id": "djyNHFjhCXaw"
      },
      "execution_count": 6,
      "outputs": []
    },
    {
      "cell_type": "code",
      "source": [
        "res = gTTS(text = text,lang=lang, slow = False)"
      ],
      "metadata": {
        "id": "fTZZn4TGCZUJ"
      },
      "execution_count": 8,
      "outputs": []
    },
    {
      "cell_type": "code",
      "source": [
        "res.save('audio.mp3')"
      ],
      "metadata": {
        "id": "NOTU75a4CkGf"
      },
      "execution_count": 10,
      "outputs": []
    },
    {
      "cell_type": "code",
      "source": [
        "!pip install SpeechRecognition"
      ],
      "metadata": {
        "colab": {
          "base_uri": "https://localhost:8080/"
        },
        "id": "jaT_EkkzDJjM",
        "outputId": "b4457bbc-2dc6-4518-cef3-e53e1e1009b1"
      },
      "execution_count": 11,
      "outputs": [
        {
          "output_type": "stream",
          "name": "stdout",
          "text": [
            "Collecting SpeechRecognition\n",
            "  Downloading speechrecognition-3.14.3-py3-none-any.whl.metadata (30 kB)\n",
            "Requirement already satisfied: typing-extensions in /usr/local/lib/python3.11/dist-packages (from SpeechRecognition) (4.13.2)\n",
            "Downloading speechrecognition-3.14.3-py3-none-any.whl (32.9 MB)\n",
            "\u001b[2K   \u001b[90m━━━━━━━━━━━━━━━━━━━━━━━━━━━━━━━━━━━━━━━━\u001b[0m \u001b[32m32.9/32.9 MB\u001b[0m \u001b[31m58.6 MB/s\u001b[0m eta \u001b[36m0:00:00\u001b[0m\n",
            "\u001b[?25hInstalling collected packages: SpeechRecognition\n",
            "Successfully installed SpeechRecognition-3.14.3\n"
          ]
        }
      ]
    },
    {
      "cell_type": "code",
      "source": [
        "import speech_recognition as sr"
      ],
      "metadata": {
        "id": "zjrVGQPSDQCb"
      },
      "execution_count": 12,
      "outputs": []
    },
    {
      "cell_type": "code",
      "source": [
        "model = sr.Recognizer()"
      ],
      "metadata": {
        "id": "F9bawu6gDU3x"
      },
      "execution_count": 13,
      "outputs": []
    },
    {
      "cell_type": "code",
      "source": [
        "!pip install pydub"
      ],
      "metadata": {
        "colab": {
          "base_uri": "https://localhost:8080/"
        },
        "id": "g6mbhIWcEKN3",
        "outputId": "4cb0d5a0-1b91-4d3f-ceb6-6258adbb67ba"
      },
      "execution_count": 15,
      "outputs": [
        {
          "output_type": "stream",
          "name": "stdout",
          "text": [
            "Collecting pydub\n",
            "  Downloading pydub-0.25.1-py2.py3-none-any.whl.metadata (1.4 kB)\n",
            "Downloading pydub-0.25.1-py2.py3-none-any.whl (32 kB)\n",
            "Installing collected packages: pydub\n",
            "Successfully installed pydub-0.25.1\n"
          ]
        }
      ]
    },
    {
      "cell_type": "code",
      "source": [
        "mp3_file = r'/content/audio1.mp3'\n",
        "from pydub import AudioSegment\n",
        "from pydub.playback import play\n",
        "audio = AudioSegment.from_mp3(mp3_file)\n",
        "audio.export('temp.wav', format='wav')"
      ],
      "metadata": {
        "colab": {
          "base_uri": "https://localhost:8080/"
        },
        "id": "zIz4uuLzDvif",
        "outputId": "495c6205-9174-4e62-fc1a-4bdd0ae1e50b"
      },
      "execution_count": 21,
      "outputs": [
        {
          "output_type": "execute_result",
          "data": {
            "text/plain": [
              "<_io.BufferedRandom name='temp.wav'>"
            ]
          },
          "metadata": {},
          "execution_count": 21
        }
      ]
    },
    {
      "cell_type": "code",
      "source": [
        "audio_file = r'/content/temp.wav'\n",
        "with sr.AudioFile(audio_file) as source:\n",
        "  model.adjust_for_ambient_noise\n",
        "  audio_data = model.record(source)\n",
        "  text = model.recognize_google(audio_data)\n",
        "text"
      ],
      "metadata": {
        "colab": {
          "base_uri": "https://localhost:8080/",
          "height": 88
        },
        "id": "cPC1S-_FD2x-",
        "outputId": "3bc93703-a61e-4960-c61e-54582bcf49cd"
      },
      "execution_count": 23,
      "outputs": [
        {
          "output_type": "execute_result",
          "data": {
            "text/plain": [
              "'the sea parties schedule ability analysis changed 23 is added adding a third 33 given data for T3 the period 43 is 8 seconds and the deadline is for and deadline is also 8 seconds and the execution time for 33 is 2 seconds 100% since 100% so the system is no longer schedule'"
            ],
            "application/vnd.google.colaboratory.intrinsic+json": {
              "type": "string"
            }
          },
          "metadata": {},
          "execution_count": 23
        }
      ]
    },
    {
      "cell_type": "code",
      "source": [
        "!pip install pytesseract pillow"
      ],
      "metadata": {
        "colab": {
          "base_uri": "https://localhost:8080/"
        },
        "id": "bV6kqHAkHP2E",
        "outputId": "573e7bcf-ed4e-4ec0-b8cb-24f268955f1e"
      },
      "execution_count": 24,
      "outputs": [
        {
          "output_type": "stream",
          "name": "stdout",
          "text": [
            "Collecting pytesseract\n",
            "  Downloading pytesseract-0.3.13-py3-none-any.whl.metadata (11 kB)\n",
            "Requirement already satisfied: pillow in /usr/local/lib/python3.11/dist-packages (11.2.1)\n",
            "Requirement already satisfied: packaging>=21.3 in /usr/local/lib/python3.11/dist-packages (from pytesseract) (24.2)\n",
            "Downloading pytesseract-0.3.13-py3-none-any.whl (14 kB)\n",
            "Installing collected packages: pytesseract\n",
            "Successfully installed pytesseract-0.3.13\n"
          ]
        }
      ]
    },
    {
      "cell_type": "code",
      "source": [
        "from PIL import Image\n",
        "import pytesseract\n",
        "import matplotlib.pyplot as plt"
      ],
      "metadata": {
        "id": "id9i6euvEuL_"
      },
      "execution_count": 25,
      "outputs": []
    },
    {
      "cell_type": "code",
      "source": [
        "image_path =r'/content/onceuponatime.png'"
      ],
      "metadata": {
        "id": "ChIutS9eHb7_"
      },
      "execution_count": 34,
      "outputs": []
    },
    {
      "cell_type": "code",
      "source": [
        "plt.imshow(Image.open(image_path))\n",
        "plt.axis('off')\n",
        "plt.show()"
      ],
      "metadata": {
        "colab": {
          "base_uri": "https://localhost:8080/",
          "height": 406
        },
        "id": "eOBvdbobHsOJ",
        "outputId": "a3657e32-91ec-4fc1-d291-cdf5cb622937"
      },
      "execution_count": 35,
      "outputs": [
        {
          "output_type": "display_data",
          "data": {
            "text/plain": [
              "<Figure size 640x480 with 1 Axes>"
            ],
            "image/png": "[encoded data removed]"
          },
          "metadata": {}
        }
      ]
    },
    {
      "cell_type": "code",
      "source": [
        "img = Image.open(image_path)\n",
        "text= pytesseract.image_to_string(img)\n",
        "print(\"Extracted Text:\")\n",
        "print(text)"
      ],
      "metadata": {
        "colab": {
          "base_uri": "https://localhost:8080/"
        },
        "id": "uin6rj4pIFsl",
        "outputId": "a73aa2b9-7670-4505-a4d8-0be5fae92b2b"
      },
      "execution_count": 36,
      "outputs": [
        {
          "output_type": "stream",
          "name": "stdout",
          "text": [
            "Extracted Text:\n",
            "Once Upon a Time by Gabriel Okara\n",
            "\n",
            "Once upon a time, son,\n",
            "\n",
            "they used to laugh with their hearts\n",
            "\n",
            "and laugh with their eyes:\n",
            "\n",
            "but now they only laugh with their teeth,\n",
            "while their ice-block-cold eyes\n",
            "\n",
            "search behind my shadow.\n",
            "\n",
            "There was a time indeed\n",
            "\n",
            "they used to shake hands with their hearts:\n",
            "but that’s gone, son.\n",
            "\n",
            "Now they shake hands without hearts\n",
            "while their left hands search\n",
            "\n",
            "my empty pockets.\n",
            "\n",
            "‘Feel at home!’ ‘Come again’:\n",
            "they say, and when I come\n",
            "again and feel\n",
            "\n",
            "at home, once, twice,\n",
            "\n",
            "there will be no thrice-\n",
            "\n",
            "for then I find doors shut on me.\n",
            "\n",
            "So I have learned many things, son.\n",
            "\n",
            "I have learned to wear many faces\n",
            "\n",
            "like dresses - homeface,\n",
            "\n",
            "officeface, streetface, hostface,\n",
            "\n",
            "cocktailface, with all their conforming smiles\n",
            "like a fixed portrait smile.\n",
            "\n",
            "And I have learned too\n",
            "\n",
            "to laugh with only my teeth\n",
            "\n",
            "and shake hands without my heart.\n",
            "\n",
            "I have also learned to say,’Goodbye’,\n",
            "when I mean ‘Good-riddance’:\n",
            "\n",
            "to say ‘Glad to meet you’,\n",
            "\n",
            "without being glad; and to say ‘It’s been\n",
            "nice talking to you’, after being bored.\n",
            "\n",
            "But believe me, son.\n",
            "I want to be what I used to be\n",
            "\n",
            "when I was like you. I want\n",
            "\n",
            "to unlearn all these muting things.\n",
            "\n",
            "Most of all, I want to relearn\n",
            "\n",
            "how to laugh, for my laugh in the mirror\n",
            "shows only my teeth like a snake’s bare fangs!\n",
            "\f\n"
          ]
        }
      ]
    },
    {
      "cell_type": "code",
      "source": [
        "tex = text"
      ],
      "metadata": {
        "id": "djz-1kb_Kyjs"
      },
      "execution_count": 38,
      "outputs": []
    },
    {
      "cell_type": "code",
      "source": [
        "lang = 'en'\n",
        "res = gTTS(text = tex,lang=lang, slow = False)\n",
        "res.save('poem1.mp3')\n"
      ],
      "metadata": {
        "id": "frLXjqwrK21C"
      },
      "execution_count": 41,
      "outputs": []
    },
    {
      "cell_type": "code",
      "source": [
        "mp3_file = r'/content/poem1.mp3'\n",
        "from pydub import AudioSegment\n",
        "from pydub.playback import play\n",
        "audio = AudioSegment.from_mp3(mp3_file)\n",
        "audio.export('temp.wav', format='wav')\n",
        "\n",
        "\n",
        "\n",
        "audio_file = r'/content/temp.wav'\n",
        "with sr.AudioFile(audio_file) as source:\n",
        "  model.adjust_for_ambient_noise\n",
        "  audio_data = model.record(source)\n",
        "  text = model.recognize_google(audio_data)\n",
        "text\n",
        "\n",
        "\n"
      ],
      "metadata": {
        "colab": {
          "base_uri": "https://localhost:8080/",
          "height": 227
        },
        "id": "Rv-K2YdILTdl",
        "outputId": "3830bcda-06ad-4681-d680-53e6b426828f"
      },
      "execution_count": 42,
      "outputs": [
        {
          "output_type": "execute_result",
          "data": {
            "text/plain": [
              "\"Once Upon a Time by Gabriel okara Once Upon a Time son they used to laugh with their hearts and laugh with their eyes but now they only laugh with their teeth while their ice block cold eyes search behind my shadow there was a time indeed they used to shake hands with their hearts but that's gone son now they shake hands without Hearts while their left hands search my empty Pockets feel at home come again they say and when I come again and feel at home once twice there will be no Thrice for then I find doors shut on me so I have learned many things son I have learned to wear many faces like dresses home Face Off his face Street face host face cocktail face with all their conforming Smiles like a fixed portrait smile and I have learned to to laugh with only my teeth and shake hands with all my heart I have also learned to say goodbye when I mean good riddance to say glad to meet you without being glad and to say it's been nice talking to you after being bored but believe me son I want to be what I used to be when I was like you I want to learn all these muting things most of all I want to relearn how to laugh for my laugh in the mirror shows only my teeth like a snake spare fangs\""
            ],
            "application/vnd.google.colaboratory.intrinsic+json": {
              "type": "string"
            }
          },
          "metadata": {},
          "execution_count": 42
        }
      ]
    },
    {
      "cell_type": "code",
      "source": [
        "mp3_file = r'/content/arithmetic_result.mp3'\n",
        "from pydub import AudioSegment\n",
        "from pydub.playback import play\n",
        "audio = AudioSegment.from_mp3(mp3_file)\n",
        "audio.export('temp.wav', format='wav')\n",
        "\n",
        "\n",
        "\n",
        "audio_file = r'/content/temp.wav'\n",
        "with sr.AudioFile(audio_file) as source:\n",
        "  model.adjust_for_ambient_noise\n",
        "  audio_data = model.record(source)\n",
        "  text = model.recognize_google(audio_data)\n",
        "text"
      ],
      "metadata": {
        "colab": {
          "base_uri": "https://localhost:8080/",
          "height": 36
        },
        "id": "H6RsodIjNNmI",
        "outputId": "49a50113-92b0-425e-a7fd-811b374ca993"
      },
      "execution_count": 46,
      "outputs": [
        {
          "output_type": "execute_result",
          "data": {
            "text/plain": [
              "'could not understand the arithmetic problem'"
            ],
            "application/vnd.google.colaboratory.intrinsic+json": {
              "type": "string"
            }
          },
          "metadata": {},
          "execution_count": 46
        }
      ]
    },
    {
      "cell_type": "code",
      "source": [
        "mp3_file = r'/content/audio2.mp3'\n",
        "audio = AudioSegment.from_file(mp3_file)\n",
        "audio.export(\"temp.wav\", format=\"wav\")"
      ],
      "metadata": {
        "colab": {
          "base_uri": "https://localhost:8080/"
        },
        "id": "zhdlARyWaZoO",
        "outputId": "df4244da-fe36-4c37-fd56-77f3ea2ff08e"
      },
      "execution_count": 75,
      "outputs": [
        {
          "output_type": "execute_result",
          "data": {
            "text/plain": [
              "<_io.BufferedRandom name='temp.wav'>"
            ]
          },
          "metadata": {},
          "execution_count": 75
        }
      ]
    },
    {
      "cell_type": "code",
      "source": [
        "ecognizer = sr.Recognizer()\n",
        "with sr.AudioFile(\"temp.wav\") as source:\n",
        "  audio_data = model.record(source)\n",
        "  text = model.recognize_google(audio_data)\n",
        "\n",
        "print(\"Recognized text:\", text)"
      ],
      "metadata": {
        "colab": {
          "base_uri": "https://localhost:8080/"
        },
        "id": "3j9egn07aaPC",
        "outputId": "8b09ab7b-c4b6-4612-f4a7-a9792194af8e"
      },
      "execution_count": 81,
      "outputs": [
        {
          "output_type": "stream",
          "name": "stdout",
          "text": [
            "Recognized text: 2 + 3 + 4 is\n"
          ]
        }
      ]
    },
    {
      "cell_type": "code",
      "source": [
        "expression_match = re.search(r'(\\d+)\\s*[\\+\\-\\*/]\\s*(\\d+)', text)\n",
        "if expression_match:\n",
        "    expression = expression_match.group(0)\n",
        "    try:\n",
        "        result = eval(expression)\n",
        "        answer_text = f\"The answer is {result}\"\n",
        "    except Exception as e:\n",
        "        answer_text = \"Sorry, I could not evaluate that expression\"\n",
        "else:\n",
        "    answer_text = \"No valid math expression found\"\n",
        "\n",
        "print(\"Answer:\", answer_text)"
      ],
      "metadata": {
        "colab": {
          "base_uri": "https://localhost:8080/"
        },
        "id": "EXgWejwNa2Si",
        "outputId": "e5ae37dd-0635-49c9-b564-f69a3c29705f"
      },
      "execution_count": 82,
      "outputs": [
        {
          "output_type": "stream",
          "name": "stdout",
          "text": [
            "Answer: The answer is 5\n"
          ]
        }
      ]
    },
    {
      "cell_type": "code",
      "source": [
        "tts = gTTS(answer_text)\n",
        "tts.save(\"/content/answer.mp3\")"
      ],
      "metadata": {
        "id": "So-aZDpZa3Ct"
      },
      "execution_count": 83,
      "outputs": []
    }
  ]
}